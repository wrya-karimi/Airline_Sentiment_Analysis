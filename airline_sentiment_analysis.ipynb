{
 "nbformat": 4,
 "nbformat_minor": 0,
 "metadata": {
  "colab": {
   "provenance": [],
   "authorship_tag": "ABX9TyNUfu4I0vd+ftiXdmA2c+by",
   "include_colab_link": true
  },
  "kernelspec": {
   "name": "python3",
   "display_name": "Python 3"
  },
  "language_info": {
   "name": "python"
  }
 },
 "cells": [
  {
   "cell_type": "markdown",
   "metadata": {
    "id": "view-in-github",
    "colab_type": "text"
   },
   "source": [
    "<a href=\"https://colab.research.google.com/github/wrya-karimi/Airline_Sentiment_Analysis/blob/main/airline_sentiment_analysis.ipynb\" target=\"_parent\"><img src=\"https://colab.research.google.com/assets/colab-badge.svg\" alt=\"Open In Colab\"/></a>"
   ]
  },
  {
   "cell_type": "code",
   "execution_count": 45,
   "metadata": {
    "id": "mSHkvGb2JePP"
   },
   "outputs": [],
   "source": [
    "import pandas as pd\n",
    "import numpy as np\n",
    "\n",
    "\n",
    "import matplotlib.pyplot as plt\n",
    "import seaborn as sns"
   ]
  },
  {
   "cell_type": "code",
   "source": [
    "print(pd.__version__)"
   ],
   "metadata": {
    "colab": {
     "base_uri": "https://localhost:8080/"
    },
    "id": "bdvgbXTYLxW3",
    "outputId": "f0a8ebbb-2947-445c-c834-0c44b3c46972"
   },
   "execution_count": 46,
   "outputs": [
    {
     "name": "stdout",
     "output_type": "stream",
     "text": [
      "1.4.3\n"
     ]
    }
   ]
  },
  {
   "cell_type": "markdown",
   "source": [
    "#Load Dataset"
   ],
   "metadata": {
    "id": "62RiEwDLj992"
   }
  },
  {
   "cell_type": "code",
   "source": [
    "tweets_df = pd.read_csv(\"https://raw.githubusercontent.com/satyajeetkrjha/kaggle-Twitter-US-Airline-Sentiment-/master/Tweets.csv\")"
   ],
   "metadata": {
    "id": "mI5pnF0-iY6x"
   },
   "execution_count": 47,
   "outputs": []
  },
  {
   "cell_type": "code",
   "source": [
    "tweets_df.columns"
   ],
   "metadata": {
    "colab": {
     "base_uri": "https://localhost:8080/"
    },
    "id": "C3BEHz_lj0CR",
    "outputId": "40b9883f-1d26-473f-dcae-022a0e331c90"
   },
   "execution_count": 48,
   "outputs": [
    {
     "data": {
      "text/plain": "Index(['tweet_id', 'airline_sentiment', 'airline_sentiment_confidence',\n       'negativereason', 'negativereason_confidence', 'airline',\n       'airline_sentiment_gold', 'name', 'negativereason_gold',\n       'retweet_count', 'text', 'tweet_coord', 'tweet_created',\n       'tweet_location', 'user_timezone'],\n      dtype='object')"
     },
     "execution_count": 48,
     "metadata": {},
     "output_type": "execute_result"
    }
   ]
  },
  {
   "cell_type": "code",
   "source": [
    "tweets_df.describe"
   ],
   "metadata": {
    "id": "Kdmz37AAkIQX"
   },
   "execution_count": 49,
   "outputs": [
    {
     "data": {
      "text/plain": "<bound method NDFrame.describe of                  tweet_id airline_sentiment  airline_sentiment_confidence  \\\n0      570306133677760513           neutral                        1.0000   \n1      570301130888122368          positive                        0.3486   \n2      570301083672813571           neutral                        0.6837   \n3      570301031407624196          negative                        1.0000   \n4      570300817074462722          negative                        1.0000   \n...                   ...               ...                           ...   \n14635  569587686496825344          positive                        0.3487   \n14636  569587371693355008          negative                        1.0000   \n14637  569587242672398336           neutral                        1.0000   \n14638  569587188687634433          negative                        1.0000   \n14639  569587140490866689           neutral                        0.6771   \n\n               negativereason  negativereason_confidence         airline  \\\n0                         NaN                        NaN  Virgin America   \n1                         NaN                     0.0000  Virgin America   \n2                         NaN                        NaN  Virgin America   \n3                  Bad Flight                     0.7033  Virgin America   \n4                  Can't Tell                     1.0000  Virgin America   \n...                       ...                        ...             ...   \n14635                     NaN                     0.0000        American   \n14636  Customer Service Issue                     1.0000        American   \n14637                     NaN                        NaN        American   \n14638  Customer Service Issue                     0.6659        American   \n14639                     NaN                     0.0000        American   \n\n      airline_sentiment_gold             name negativereason_gold  \\\n0                        NaN          cairdin                 NaN   \n1                        NaN         jnardino                 NaN   \n2                        NaN       yvonnalynn                 NaN   \n3                        NaN         jnardino                 NaN   \n4                        NaN         jnardino                 NaN   \n...                      ...              ...                 ...   \n14635                    NaN  KristenReenders                 NaN   \n14636                    NaN         itsropes                 NaN   \n14637                    NaN         sanyabun                 NaN   \n14638                    NaN       SraJackson                 NaN   \n14639                    NaN        daviddtwu                 NaN   \n\n       retweet_count                                               text  \\\n0                  0                @VirginAmerica What @dhepburn said.   \n1                  0  @VirginAmerica plus you've added commercials t...   \n2                  0  @VirginAmerica I didn't today... Must mean I n...   \n3                  0  @VirginAmerica it's really aggressive to blast...   \n4                  0  @VirginAmerica and it's a really big bad thing...   \n...              ...                                                ...   \n14635              0  @AmericanAir thank you we got on a different f...   \n14636              0  @AmericanAir leaving over 20 minutes Late Flig...   \n14637              0  @AmericanAir Please bring American Airlines to...   \n14638              0  @AmericanAir you have my money, you change my ...   \n14639              0  @AmericanAir we have 8 ppl so we need 2 know h...   \n\n      tweet_coord              tweet_created tweet_location  \\\n0             NaN  2015-02-24 11:35:52 -0800            NaN   \n1             NaN  2015-02-24 11:15:59 -0800            NaN   \n2             NaN  2015-02-24 11:15:48 -0800      Lets Play   \n3             NaN  2015-02-24 11:15:36 -0800            NaN   \n4             NaN  2015-02-24 11:14:45 -0800            NaN   \n...           ...                        ...            ...   \n14635         NaN  2015-02-22 12:01:01 -0800            NaN   \n14636         NaN  2015-02-22 11:59:46 -0800          Texas   \n14637         NaN  2015-02-22 11:59:15 -0800  Nigeria,lagos   \n14638         NaN  2015-02-22 11:59:02 -0800     New Jersey   \n14639         NaN  2015-02-22 11:58:51 -0800     dallas, TX   \n\n                    user_timezone  \n0      Eastern Time (US & Canada)  \n1      Pacific Time (US & Canada)  \n2      Central Time (US & Canada)  \n3      Pacific Time (US & Canada)  \n4      Pacific Time (US & Canada)  \n...                           ...  \n14635                         NaN  \n14636                         NaN  \n14637                         NaN  \n14638  Eastern Time (US & Canada)  \n14639                         NaN  \n\n[14640 rows x 15 columns]>"
     },
     "execution_count": 49,
     "metadata": {},
     "output_type": "execute_result"
    }
   ]
  },
  {
   "cell_type": "code",
   "source": [
    "tweets_df.shape"
   ],
   "metadata": {
    "colab": {
     "base_uri": "https://localhost:8080/"
    },
    "id": "fG8JCvYvlgmv",
    "outputId": "5c7b80e5-940b-4df5-e457-d385579d4a6e"
   },
   "execution_count": 50,
   "outputs": [
    {
     "data": {
      "text/plain": "(14640, 15)"
     },
     "execution_count": 50,
     "metadata": {},
     "output_type": "execute_result"
    }
   ]
  },
  {
   "cell_type": "code",
   "source": [
    "tweets_df.head()"
   ],
   "metadata": {
    "colab": {
     "base_uri": "https://localhost:8080/",
     "height": 495
    },
    "id": "FPpdgAx3luew",
    "outputId": "41cf31d6-8295-4477-8b45-8c0972a4080a"
   },
   "execution_count": 51,
   "outputs": [
    {
     "data": {
      "text/plain": "             tweet_id airline_sentiment  airline_sentiment_confidence  \\\n0  570306133677760513           neutral                        1.0000   \n1  570301130888122368          positive                        0.3486   \n2  570301083672813571           neutral                        0.6837   \n3  570301031407624196          negative                        1.0000   \n4  570300817074462722          negative                        1.0000   \n\n  negativereason  negativereason_confidence         airline  \\\n0            NaN                        NaN  Virgin America   \n1            NaN                     0.0000  Virgin America   \n2            NaN                        NaN  Virgin America   \n3     Bad Flight                     0.7033  Virgin America   \n4     Can't Tell                     1.0000  Virgin America   \n\n  airline_sentiment_gold        name negativereason_gold  retweet_count  \\\n0                    NaN     cairdin                 NaN              0   \n1                    NaN    jnardino                 NaN              0   \n2                    NaN  yvonnalynn                 NaN              0   \n3                    NaN    jnardino                 NaN              0   \n4                    NaN    jnardino                 NaN              0   \n\n                                                text tweet_coord  \\\n0                @VirginAmerica What @dhepburn said.         NaN   \n1  @VirginAmerica plus you've added commercials t...         NaN   \n2  @VirginAmerica I didn't today... Must mean I n...         NaN   \n3  @VirginAmerica it's really aggressive to blast...         NaN   \n4  @VirginAmerica and it's a really big bad thing...         NaN   \n\n               tweet_created tweet_location               user_timezone  \n0  2015-02-24 11:35:52 -0800            NaN  Eastern Time (US & Canada)  \n1  2015-02-24 11:15:59 -0800            NaN  Pacific Time (US & Canada)  \n2  2015-02-24 11:15:48 -0800      Lets Play  Central Time (US & Canada)  \n3  2015-02-24 11:15:36 -0800            NaN  Pacific Time (US & Canada)  \n4  2015-02-24 11:14:45 -0800            NaN  Pacific Time (US & Canada)  ",
      "text/html": "<div>\n<style scoped>\n    .dataframe tbody tr th:only-of-type {\n        vertical-align: middle;\n    }\n\n    .dataframe tbody tr th {\n        vertical-align: top;\n    }\n\n    .dataframe thead th {\n        text-align: right;\n    }\n</style>\n<table border=\"1\" class=\"dataframe\">\n  <thead>\n    <tr style=\"text-align: right;\">\n      <th></th>\n      <th>tweet_id</th>\n      <th>airline_sentiment</th>\n      <th>airline_sentiment_confidence</th>\n      <th>negativereason</th>\n      <th>negativereason_confidence</th>\n      <th>airline</th>\n      <th>airline_sentiment_gold</th>\n      <th>name</th>\n      <th>negativereason_gold</th>\n      <th>retweet_count</th>\n      <th>text</th>\n      <th>tweet_coord</th>\n      <th>tweet_created</th>\n      <th>tweet_location</th>\n      <th>user_timezone</th>\n    </tr>\n  </thead>\n  <tbody>\n    <tr>\n      <th>0</th>\n      <td>570306133677760513</td>\n      <td>neutral</td>\n      <td>1.0000</td>\n      <td>NaN</td>\n      <td>NaN</td>\n      <td>Virgin America</td>\n      <td>NaN</td>\n      <td>cairdin</td>\n      <td>NaN</td>\n      <td>0</td>\n      <td>@VirginAmerica What @dhepburn said.</td>\n      <td>NaN</td>\n      <td>2015-02-24 11:35:52 -0800</td>\n      <td>NaN</td>\n      <td>Eastern Time (US &amp; Canada)</td>\n    </tr>\n    <tr>\n      <th>1</th>\n      <td>570301130888122368</td>\n      <td>positive</td>\n      <td>0.3486</td>\n      <td>NaN</td>\n      <td>0.0000</td>\n      <td>Virgin America</td>\n      <td>NaN</td>\n      <td>jnardino</td>\n      <td>NaN</td>\n      <td>0</td>\n      <td>@VirginAmerica plus you've added commercials t...</td>\n      <td>NaN</td>\n      <td>2015-02-24 11:15:59 -0800</td>\n      <td>NaN</td>\n      <td>Pacific Time (US &amp; Canada)</td>\n    </tr>\n    <tr>\n      <th>2</th>\n      <td>570301083672813571</td>\n      <td>neutral</td>\n      <td>0.6837</td>\n      <td>NaN</td>\n      <td>NaN</td>\n      <td>Virgin America</td>\n      <td>NaN</td>\n      <td>yvonnalynn</td>\n      <td>NaN</td>\n      <td>0</td>\n      <td>@VirginAmerica I didn't today... Must mean I n...</td>\n      <td>NaN</td>\n      <td>2015-02-24 11:15:48 -0800</td>\n      <td>Lets Play</td>\n      <td>Central Time (US &amp; Canada)</td>\n    </tr>\n    <tr>\n      <th>3</th>\n      <td>570301031407624196</td>\n      <td>negative</td>\n      <td>1.0000</td>\n      <td>Bad Flight</td>\n      <td>0.7033</td>\n      <td>Virgin America</td>\n      <td>NaN</td>\n      <td>jnardino</td>\n      <td>NaN</td>\n      <td>0</td>\n      <td>@VirginAmerica it's really aggressive to blast...</td>\n      <td>NaN</td>\n      <td>2015-02-24 11:15:36 -0800</td>\n      <td>NaN</td>\n      <td>Pacific Time (US &amp; Canada)</td>\n    </tr>\n    <tr>\n      <th>4</th>\n      <td>570300817074462722</td>\n      <td>negative</td>\n      <td>1.0000</td>\n      <td>Can't Tell</td>\n      <td>1.0000</td>\n      <td>Virgin America</td>\n      <td>NaN</td>\n      <td>jnardino</td>\n      <td>NaN</td>\n      <td>0</td>\n      <td>@VirginAmerica and it's a really big bad thing...</td>\n      <td>NaN</td>\n      <td>2015-02-24 11:14:45 -0800</td>\n      <td>NaN</td>\n      <td>Pacific Time (US &amp; Canada)</td>\n    </tr>\n  </tbody>\n</table>\n</div>"
     },
     "execution_count": 51,
     "metadata": {},
     "output_type": "execute_result"
    }
   ]
  },
  {
   "cell_type": "markdown",
   "source": [
    "##Detect Missing Value percent of each column"
   ],
   "metadata": {
    "id": "Gssn2-RTm-n6"
   }
  },
  {
   "cell_type": "code",
   "source": [
    "(tweets_df.isna().sum() / len(tweets_df)) * 100"
   ],
   "metadata": {
    "colab": {
     "base_uri": "https://localhost:8080/"
    },
    "id": "te5NrIpfnGFk",
    "outputId": "5da2f407-fc6a-4005-9545-fe9911ebff70"
   },
   "execution_count": 52,
   "outputs": [
    {
     "data": {
      "text/plain": "tweet_id                         0.000000\nairline_sentiment                0.000000\nairline_sentiment_confidence     0.000000\nnegativereason                  37.308743\nnegativereason_confidence       28.128415\nairline                          0.000000\nairline_sentiment_gold          99.726776\nname                             0.000000\nnegativereason_gold             99.781421\nretweet_count                    0.000000\ntext                             0.000000\ntweet_coord                     93.039617\ntweet_created                    0.000000\ntweet_location                  32.329235\nuser_timezone                   32.923497\ndtype: float64"
     },
     "execution_count": 52,
     "metadata": {},
     "output_type": "execute_result"
    }
   ]
  },
  {
   "cell_type": "markdown",
   "source": [
    "#Exploratory Data Analysis(EDA)\n",
    "Exploratory Data Analysis refers to the critical process of performing initial investigations on data to discover patterns, spot anomalies, test hypotheses, and check assumptions with the help of summary statistics and graphical representations.\n",
    "\n",
    "The overall objective of exploratory data analysis is to obtain vital insights and hence usually includes the following sub-objectives: \n",
    "\n",
    "\n",
    "*   Identifying and removing data outliers\n",
    "*   Identifying trends in time and space\n",
    "*   Uncover patterns related to the target\n",
    "*   Creating hypotheses and testing them through experiments\n",
    "*   Identifying new sources of data"
   ],
   "metadata": {
    "id": "BTfXgxXWplts"
   }
  },
  {
   "cell_type": "markdown",
   "source": [
    "## number of unique value of each column"
   ],
   "metadata": {
    "collapsed": false
   }
  },
  {
   "cell_type": "code",
   "source": [
    "tweets_df.nunique()"
   ],
   "metadata": {
    "id": "RTxv6Il6pxnE"
   },
   "execution_count": 53,
   "outputs": [
    {
     "data": {
      "text/plain": "tweet_id                        14485\nairline_sentiment                   3\nairline_sentiment_confidence     1023\nnegativereason                     10\nnegativereason_confidence        1410\nairline                             6\nairline_sentiment_gold              3\nname                             7701\nnegativereason_gold                13\nretweet_count                      18\ntext                            14427\ntweet_coord                       832\ntweet_created                   14247\ntweet_location                   3081\nuser_timezone                      85\ndtype: int64"
     },
     "execution_count": 53,
     "metadata": {},
     "output_type": "execute_result"
    }
   ]
  },
  {
   "cell_type": "code",
   "execution_count": 54,
   "outputs": [
    {
     "data": {
      "text/plain": "'2015-02-16 23:36:05 -0800'"
     },
     "execution_count": 54,
     "metadata": {},
     "output_type": "execute_result"
    }
   ],
   "source": [
    "tweets_df['tweet_created'].min()"
   ],
   "metadata": {
    "collapsed": false,
    "pycharm": {
     "name": "#%%\n"
    }
   }
  },
  {
   "cell_type": "markdown",
   "source": [
    "##convert a scalar, array-like, Series or DataFrame to a pandas datetime object\n",
    "Series.dt.date : Returns numpy array of python datetime.date objects.\n",
    "Namely, the date part of Timestamps without time and timezone information."
   ],
   "metadata": {
    "collapsed": false
   }
  },
  {
   "cell_type": "code",
   "execution_count": 55,
   "outputs": [
    {
     "name": "stdout",
     "output_type": "stream",
     "text": [
      "<class 'pandas.core.series.Series'>\n"
     ]
    }
   ],
   "source": [
    "print(type(tweets_df['tweet_created']))\n",
    "tweets_df['tweet_created'] = pd.to_datetime(tweets_df['tweet_created']).dt.date\n",
    "#tweets_df['tweet_created'] = pd.to_datetime(tweets_df['tweet_created'])"
   ],
   "metadata": {
    "collapsed": false,
    "pycharm": {
     "name": "#%%\n"
    }
   }
  },
  {
   "cell_type": "code",
   "execution_count": 56,
   "outputs": [
    {
     "name": "stdout",
     "output_type": "stream",
     "text": [
      "Since:  2015-02-16\n",
      "Until : 2015-02-24\n",
      "Number Of days : 9\n"
     ]
    }
   ],
   "source": [
    "print(\"Since: \", tweets_df['tweet_created'].min())\n",
    "print(\"Until :\", tweets_df['tweet_created'].max())\n",
    "print(\"Number Of days :\", tweets_df['tweet_created'].nunique())"
   ],
   "metadata": {
    "collapsed": false,
    "pycharm": {
     "name": "#%%\n"
    }
   }
  },
  {
   "cell_type": "code",
   "execution_count": 57,
   "outputs": [
    {
     "data": {
      "text/plain": "tweet_created\n2015-02-16       4\n2015-02-17    1408\n2015-02-18    1344\n2015-02-19    1376\n2015-02-20    1500\n2015-02-21    1557\n2015-02-22    3079\n2015-02-23    3028\n2015-02-24    1344\ndtype: int64"
     },
     "execution_count": 57,
     "metadata": {},
     "output_type": "execute_result"
    }
   ],
   "source": [
    "tweets_df.groupby('tweet_created').size()"
   ],
   "metadata": {
    "collapsed": false,
    "pycharm": {
     "name": "#%%\n"
    }
   }
  },
  {
   "cell_type": "markdown",
   "source": [
    "##Checking Nan value in our dataset\n",
    "Remove columns with maximum missing value"
   ],
   "metadata": {
    "collapsed": false
   }
  },
  {
   "cell_type": "code",
   "execution_count": 58,
   "outputs": [
    {
     "data": {
      "text/plain": "tweet_id                         0.000000\nairline_sentiment                0.000000\nairline_sentiment_confidence     0.000000\nnegativereason                  37.308743\nnegativereason_confidence       28.128415\nairline                          0.000000\nairline_sentiment_gold          99.726776\nname                             0.000000\nnegativereason_gold             99.781421\nretweet_count                    0.000000\ntext                             0.000000\ntweet_coord                     93.039617\ntweet_created                    0.000000\ntweet_location                  32.329235\nuser_timezone                   32.923497\ndtype: float64"
     },
     "execution_count": 58,
     "metadata": {},
     "output_type": "execute_result"
    }
   ],
   "source": [
    "(tweets_df.isna().sum() / len(tweets_df)) * 100"
   ],
   "metadata": {
    "collapsed": false,
    "pycharm": {
     "name": "#%%\n"
    }
   }
  },
  {
   "cell_type": "code",
   "execution_count": 59,
   "outputs": [],
   "source": [
    "tweets_df.drop(['airline_sentiment_gold', 'negativereason_gold', 'tweet_coord'], axis=1, inplace= True)"
   ],
   "metadata": {
    "collapsed": false,
    "pycharm": {
     "name": "#%%\n"
    }
   }
  },
  {
   "cell_type": "code",
   "execution_count": 60,
   "outputs": [
    {
     "data": {
      "text/plain": "tweet_id                         0.000000\nairline_sentiment                0.000000\nairline_sentiment_confidence     0.000000\nnegativereason                  37.308743\nnegativereason_confidence       28.128415\nairline                          0.000000\nname                             0.000000\nretweet_count                    0.000000\ntext                             0.000000\ntweet_created                    0.000000\ntweet_location                  32.329235\nuser_timezone                   32.923497\ndtype: float64"
     },
     "execution_count": 60,
     "metadata": {},
     "output_type": "execute_result"
    }
   ],
   "source": [
    "(tweets_df.isna().sum() / len(tweets_df)) * 100"
   ],
   "metadata": {
    "collapsed": false,
    "pycharm": {
     "name": "#%%\n"
    }
   }
  },
  {
   "cell_type": "markdown",
   "source": [
    "##Reasons Of Negative Tweets"
   ],
   "metadata": {
    "collapsed": false
   }
  },
  {
   "cell_type": "code",
   "execution_count": 61,
   "outputs": [
    {
     "name": "stdout",
     "output_type": "stream",
     "text": [
      "Number of negative reasons =  10\n"
     ]
    }
   ],
   "source": [
    "print(\"Number of negative reasons = \", tweets_df.negativereason.nunique())"
   ],
   "metadata": {
    "collapsed": false,
    "pycharm": {
     "name": "#%%\n"
    }
   }
  },
  {
   "cell_type": "code",
   "execution_count": 62,
   "outputs": [
    {
     "name": "stdout",
     "output_type": "stream",
     "text": [
      "Reasons Of Negative Tweets :\n",
      "Customer Service Issue         2910\n",
      "Late Flight                    1665\n",
      "Can't Tell                     1190\n",
      "Cancelled Flight                847\n",
      "Lost Luggage                    724\n",
      "Bad Flight                      580\n",
      "Flight Booking Problems         529\n",
      "Flight Attendant Complaints     481\n",
      "longlines                       178\n",
      "Damaged Luggage                  74\n",
      "Name: negativereason, dtype: int64\n"
     ]
    }
   ],
   "source": [
    "print(\"Reasons Of Negative Tweets :\")\n",
    "print(tweets_df.negativereason.value_counts())"
   ],
   "metadata": {
    "collapsed": false,
    "pycharm": {
     "name": "#%%\n"
    }
   }
  },
  {
   "cell_type": "markdown",
   "source": [
    "Seaborn is a library that uses Matplotlib underneath to plot graphs. It will be used to visualize random distributions.\n",
    "\n",
    "palette = 'hls' = Return hues with constant lightness and saturation in the HLS system. The hues are evenly sampled along a circular path. The resulting palette will be appropriate for categorical or cyclical data."
   ],
   "metadata": {
    "collapsed": false
   }
  },
  {
   "cell_type": "code",
   "execution_count": 72,
   "outputs": [
    {
     "data": {
      "text/plain": "<Figure size 1440x720 with 1 Axes>",
      "image/png": "[encoded data removed]"
     },
     "metadata": {
      "needs_background": "light"
     },
     "output_type": "display_data"
    }
   ],
   "source": [
    "plt.figure(figsize=(20,10))\n",
    "#seaborn.countplot = Show the counts of observations in each categorical bin using bars.\n",
    "sns.countplot(x = 'negativereason', data = tweets_df, palette = 'hls')\n",
    "plt.title('Reasons Of Negative Tweets About Airlines', fontsize = 25)\n",
    "plt.show()"
   ],
   "metadata": {
    "collapsed": false,
    "pycharm": {
     "name": "#%%\n"
    }
   }
  },
  {
   "cell_type": "code",
   "execution_count": 63,
   "outputs": [],
   "source": [],
   "metadata": {
    "collapsed": false,
    "pycharm": {
     "name": "#%%\n"
    }
   }
  }
 ]
}